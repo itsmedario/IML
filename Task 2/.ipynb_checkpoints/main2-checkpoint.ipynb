{
 "cells": [
  {
   "cell_type": "code",
   "execution_count": 1,
   "metadata": {},
   "outputs": [],
   "source": [
    "import numpy as np"
   ]
  },
  {
   "cell_type": "code",
   "execution_count": 2,
   "metadata": {},
   "outputs": [],
   "source": [
    "# Read the data and remove the first Row\n",
    "train_data = np.genfromtxt('train_features.csv', delimiter = ',') \n",
    "train_data = train_data[1:]\n",
    "test_data = np.genfromtxt('test_features.csv', delimiter = ',') \n",
    "test_data = test_data[1:]"
   ]
  },
  {
   "cell_type": "code",
   "execution_count": 3,
   "metadata": {},
   "outputs": [],
   "source": [
    "# Make an array of data arrays X = [[x00,x01,...,x09],...]\n",
    "X_train = np.array([row[2:] for row in train_data])\n",
    "X_test = np.array([row[2:] for row in test_data])"
   ]
  },
  {
   "cell_type": "code",
   "execution_count": null,
   "metadata": {},
   "outputs": [],
   "source": []
  },
  {
   "cell_type": "code",
   "execution_count": 4,
   "metadata": {},
   "outputs": [],
   "source": [
    "# Make group of 12 hour vectors\n",
    "X_subgroups = np.array_split(X_train, len(X_train)/12)\n",
    "X_subgroups_test = np.array_split(X_test, len(X_test)/12)"
   ]
  },
  {
   "cell_type": "code",
   "execution_count": 5,
   "metadata": {
    "scrolled": false
   },
   "outputs": [],
   "source": [
    "def add_together(list1, list2):\n",
    "    for i, (a, b) in enumerate(zip(list1, list2)):\n",
    "        list1[i] = a+b\n",
    "        \n",
    "def divide(x,y):\n",
    "    if y != 0:\n",
    "        return x / y \n",
    "    else: \n",
    "        return 0\n",
    "\n",
    "def preprocessing(X_subgroups):\n",
    "    X_avg = []\n",
    "    X_total = [0] * 35\n",
    "    X_nums = [0] * 35\n",
    "    for sub in X_subgroups:\n",
    "        X_curr = [0] * 35\n",
    "        X_curr_nums = [0] * 35\n",
    "        for sublist in sub:\n",
    "            i = -1\n",
    "            for item in sublist:\n",
    "                i += 1\n",
    "                if item == item:\n",
    "                    X_curr[i] += item\n",
    "                    X_curr_nums[i] += 1\n",
    "        X_avg.append(['nan' if X_curr_nums[i] == 0 else X_curr[i]/X_curr_nums[i] for i in range(34)])\n",
    "\n",
    "        add_together(X_total, X_curr)\n",
    "        add_together(X_nums, X_curr_nums)\n",
    "\n",
    "    X_avg_total = list(map(lambda x, y: divide(x, y), X_total, X_nums))\n",
    "\n",
    "    for i, person in enumerate(X_avg):\n",
    "        for j, value in enumerate(person):\n",
    "            if value == 'nan':\n",
    "                X_avg[i][j] = X_avg_total[j]\n",
    "    return X_avg"
   ]
  },
  {
   "cell_type": "code",
   "execution_count": 6,
   "metadata": {},
   "outputs": [
    {
     "data": {
      "text/plain": [
       "'for i, sub in enumerate(X_subgroups):\\n    for j, sublist in enumerate(sub):\\n        for k, item in enumerate(sublist):\\n            if item != item:\\n                X_subgroups[i][j][k] = X_avg_total[k]'"
      ]
     },
     "execution_count": 6,
     "metadata": {},
     "output_type": "execute_result"
    }
   ],
   "source": [
    "\"\"\"for i, sub in enumerate(X_subgroups):\n",
    "    for j, sublist in enumerate(sub):\n",
    "        for k, item in enumerate(sublist):\n",
    "            if item != item:\n",
    "                X_subgroups[i][j][k] = X_avg_total[k]\"\"\""
   ]
  },
  {
   "cell_type": "code",
   "execution_count": 7,
   "metadata": {},
   "outputs": [],
   "source": [
    "X_avg_train = preprocessing(X_subgroups)"
   ]
  },
  {
   "cell_type": "code",
   "execution_count": 8,
   "metadata": {},
   "outputs": [],
   "source": [
    "X_avg_test = preprocessing(X_subgroups_test)"
   ]
  },
  {
   "cell_type": "code",
   "execution_count": null,
   "metadata": {},
   "outputs": [],
   "source": []
  },
  {
   "cell_type": "code",
   "execution_count": null,
   "metadata": {},
   "outputs": [],
   "source": []
  },
  {
   "cell_type": "code",
   "execution_count": null,
   "metadata": {},
   "outputs": [],
   "source": []
  },
  {
   "cell_type": "code",
   "execution_count": null,
   "metadata": {},
   "outputs": [],
   "source": []
  },
  {
   "cell_type": "code",
   "execution_count": null,
   "metadata": {},
   "outputs": [],
   "source": []
  },
  {
   "cell_type": "code",
   "execution_count": null,
   "metadata": {},
   "outputs": [],
   "source": []
  },
  {
   "cell_type": "code",
   "execution_count": null,
   "metadata": {},
   "outputs": [],
   "source": []
  },
  {
   "cell_type": "code",
   "execution_count": null,
   "metadata": {},
   "outputs": [],
   "source": []
  },
  {
   "cell_type": "code",
   "execution_count": null,
   "metadata": {},
   "outputs": [],
   "source": []
  }
 ],
 "metadata": {
  "kernelspec": {
   "display_name": "Python 3",
   "language": "python",
   "name": "python3"
  },
  "language_info": {
   "codemirror_mode": {
    "name": "ipython",
    "version": 3
   },
   "file_extension": ".py",
   "mimetype": "text/x-python",
   "name": "python",
   "nbconvert_exporter": "python",
   "pygments_lexer": "ipython3",
   "version": "3.8.1"
  }
 },
 "nbformat": 4,
 "nbformat_minor": 4
}
