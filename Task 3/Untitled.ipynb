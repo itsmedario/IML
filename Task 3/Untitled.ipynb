{
 "cells": [
  {
   "cell_type": "code",
   "execution_count": 1,
   "metadata": {},
   "outputs": [],
   "source": [
    "import numpy as np\n",
    "import pandas as pd"
   ]
  },
  {
   "cell_type": "code",
   "execution_count": 2,
   "metadata": {},
   "outputs": [],
   "source": [
    "# Read the data and remove the first Row\n",
    "train_data = pd.read_csv(\"train.csv\", delimiter = ',').values\n",
    "test_data = pd.read_csv(\"test.csv\", delimiter = ',').values"
   ]
  },
  {
   "cell_type": "code",
   "execution_count": 3,
   "metadata": {},
   "outputs": [
    {
     "data": {
      "text/plain": [
       "array([['DKWL', 0],\n",
       "       ['FCHN', 0],\n",
       "       ['KDQP', 0],\n",
       "       ['FNWI', 0],\n",
       "       ['NKRM', 0]], dtype=object)"
      ]
     },
     "execution_count": 3,
     "metadata": {},
     "output_type": "execute_result"
    }
   ],
   "source": [
    "train_data[:5]"
   ]
  },
  {
   "cell_type": "code",
   "execution_count": 4,
   "metadata": {},
   "outputs": [],
   "source": [
    "Y_train = [row[1] for row in train_data]"
   ]
  },
  {
   "cell_type": "code",
   "execution_count": 5,
   "metadata": {},
   "outputs": [],
   "source": [
    "Alph_Map = {\n",
    "    'A':0,\n",
    "    'R':1,\n",
    "    'N':2,\n",
    "    'D':3,\n",
    "    'C':4,\n",
    "    'Q':5,\n",
    "    'E':6,\n",
    "    'G':7,\n",
    "    'H':8,\n",
    "    'I':9,\n",
    "    'L':10,\n",
    "    'K':11,\n",
    "    'M':12,\n",
    "    'F':13,\n",
    "    'P':14,\n",
    "    'S':15,\n",
    "    'T':16,\n",
    "    'W':17,\n",
    "    'Y':18,\n",
    "    'V':19\n",
    "}"
   ]
  },
  {
   "cell_type": "code",
   "execution_count": 6,
   "metadata": {},
   "outputs": [],
   "source": [
    "X_train = np.zeros((len(train_data), 4*len(Alph_Map)))\n",
    "X_test = np.zeros((len(test_data), 4*len(Alph_Map)))"
   ]
  },
  {
   "cell_type": "code",
   "execution_count": 7,
   "metadata": {},
   "outputs": [],
   "source": [
    "for i, line in enumerate(train_data):\n",
    "    for j, c in enumerate(line[0]):\n",
    "        X_train[i][j*len(Alph_Map)+Alph_Map[c]] = 1"
   ]
  },
  {
   "cell_type": "code",
   "execution_count": 8,
   "metadata": {},
   "outputs": [],
   "source": [
    "for i, line in enumerate(test_data):\n",
    "    for j, c in enumerate(line[0]):\n",
    "        X_test[i][j*len(Alph_Map)+Alph_Map[c]] = 1"
   ]
  },
  {
   "cell_type": "code",
   "execution_count": 9,
   "metadata": {},
   "outputs": [],
   "source": [
    "#from sklearn.ensemble import RandomForestClassifier"
   ]
  },
  {
   "cell_type": "code",
   "execution_count": 10,
   "metadata": {},
   "outputs": [],
   "source": [
    "from lightgbm import LGBMClassifier"
   ]
  },
  {
   "cell_type": "code",
   "execution_count": 11,
   "metadata": {},
   "outputs": [
    {
     "data": {
      "text/plain": [
       "LGBMClassifier(boosting_type='gbdt', class_weight=None, colsample_bytree=1.0,\n",
       "               importance_type='split', learning_rate=0.1, max_depth=-1,\n",
       "               min_child_samples=20, min_child_weight=0.001, min_split_gain=0.0,\n",
       "               n_estimators=100, n_jobs=-1, num_leaves=31, objective=None,\n",
       "               random_state=None, reg_alpha=0.0, reg_lambda=0.0, silent=True,\n",
       "               subsample=1.0, subsample_for_bin=200000, subsample_freq=0)"
      ]
     },
     "execution_count": 11,
     "metadata": {},
     "output_type": "execute_result"
    }
   ],
   "source": [
    "#model = RandomForestClassifier(n_estimators=200, max_features=8)\n",
    "#model.fit(X_train, Y_train)\n",
    "model = LGBMClassifier()\n",
    "model.fit(X_train, Y_train)"
   ]
  },
  {
   "cell_type": "code",
   "execution_count": null,
   "metadata": {},
   "outputs": [],
   "source": []
  },
  {
   "cell_type": "code",
   "execution_count": 12,
   "metadata": {},
   "outputs": [],
   "source": [
    "Y_test = model.predict(X_test)"
   ]
  },
  {
   "cell_type": "code",
   "execution_count": null,
   "metadata": {},
   "outputs": [],
   "source": []
  },
  {
   "cell_type": "code",
   "execution_count": 13,
   "metadata": {},
   "outputs": [],
   "source": [
    "import csv\n",
    "\n",
    "with open('results.csv', 'w', newline='') as file:\n",
    "    writer = csv.writer(file)\n",
    "    for y in Y_test:\n",
    "        writer.writerow([y])"
   ]
  }
 ],
 "metadata": {
  "kernelspec": {
   "display_name": "Python 3",
   "language": "python",
   "name": "python3"
  },
  "language_info": {
   "codemirror_mode": {
    "name": "ipython",
    "version": 3
   },
   "file_extension": ".py",
   "mimetype": "text/x-python",
   "name": "python",
   "nbconvert_exporter": "python",
   "pygments_lexer": "ipython3",
   "version": "3.8.1"
  }
 },
 "nbformat": 4,
 "nbformat_minor": 4
}
